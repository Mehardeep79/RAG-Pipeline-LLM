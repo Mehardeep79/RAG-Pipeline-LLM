{
 "cells": [
  {
   "cell_type": "markdown",
   "id": "7d7117cc",
   "metadata": {},
   "source": [
    "# 🔍 RAG Pipeline For LLMs 🚀\n",
    "\n",
    "\n",
    "## 📖 Project Overview\n",
    "\n",
    "This Notebook implements a **Retrieval-Augmented Generation (RAG)** pipeline using state-of-the-art language models and vector databases. The system intelligently retrieves relevant information from Wikipedia articles and generates accurate, context-aware answers to user questions.\n",
    "\n",
    "\n",
    "\n",
    "### ✨ Key Features\n",
    "\n",
    "- 📚 **Dynamic Knowledge Retrieval** from Wikipedia\n",
    "- 🧮 **Semantic Search** using sentence transformers\n",
    "- ⚡ **Fast Vector Similarity** with FAISS indexing\n",
    "- 🤖 **Intelligent Answer Generation** using pre-trained QA models\n",
    "- 📊 **Confidence Scoring** for answer quality assessment\n",
    "- 🎛️ **Customizable Parameters** (chunk size, retrieval count, etc.)\n",
    "\n",
    "### 🏗️ Architecture\n",
    "\n",
    "```\n",
    "User Query → Embedding → FAISS Search → Retrieve Chunks → QA Model → Answer + Confidence\n",
    "```\n",
    "\n",
    "### 🛠️ Tech Stack & Models\n",
    "\n",
    "**🔧 Core Technologies:**\n",
    "- **🤗 Transformers**: For tokenization and question-answering models\n",
    "- **📝 Sentence Transformers**: For semantic embeddings\n",
    "- **⚡ FAISS**: For efficient vector similarity search\n",
    "- **📖 Wikipedia API**: For knowledge base content\n",
    "- **🐍 Python**: Core implementation language\n",
    "\n",
    "**🤖 AI Models Used:**\n",
    "- **📏 Text Chunking**: `sentence-transformers/all-mpnet-base-v2` tokenizer\n",
    "- **🧮 Vector Embeddings**: `sentence-transformers/all-mpnet-base-v2` (768-dimensional)\n",
    "- **❓ Question Answering**: `deepset/roberta-base-squad2` (RoBERTa fine-tuned on SQuAD 2.0)\n",
    "- **🔍 Vector Search**: FAISS IndexFlatL2 for L2 distance similarity"
   ]
  },
  {
   "cell_type": "markdown",
   "id": "75eefb66",
   "metadata": {},
   "source": [
    "## 📦 Installation & Setup\n",
    "\n",
    "### 🔧 Installing Required Dependencies\n",
    "\n",
    "First, let's install all the necessary Python packages for our RAG pipeline:"
   ]
  },
  {
   "cell_type": "code",
   "execution_count": 2,
   "id": "02ffab45",
   "metadata": {},
   "outputs": [
    {
     "name": "stdout",
     "output_type": "stream",
     "text": [
      "Requirement already satisfied: wikipedia in c:\\users\\sandh\\anaconda3\\lib\\site-packages (1.4.0)\n",
      "Requirement already satisfied: beautifulsoup4 in c:\\users\\sandh\\anaconda3\\lib\\site-packages (from wikipedia) (4.12.3)\n",
      "Requirement already satisfied: requests<3.0.0,>=2.0.0 in c:\\users\\sandh\\anaconda3\\lib\\site-packages (from wikipedia) (2.32.3)\n",
      "Requirement already satisfied: charset-normalizer<4,>=2 in c:\\users\\sandh\\anaconda3\\lib\\site-packages (from requests<3.0.0,>=2.0.0->wikipedia) (3.3.2)\n",
      "Requirement already satisfied: idna<4,>=2.5 in c:\\users\\sandh\\anaconda3\\lib\\site-packages (from requests<3.0.0,>=2.0.0->wikipedia) (3.7)\n",
      "Requirement already satisfied: urllib3<3,>=1.21.1 in c:\\users\\sandh\\anaconda3\\lib\\site-packages (from requests<3.0.0,>=2.0.0->wikipedia) (2.2.3)\n",
      "Requirement already satisfied: certifi>=2017.4.17 in c:\\users\\sandh\\anaconda3\\lib\\site-packages (from requests<3.0.0,>=2.0.0->wikipedia) (2025.8.3)\n",
      "Requirement already satisfied: soupsieve>1.2 in c:\\users\\sandh\\anaconda3\\lib\\site-packages (from beautifulsoup4->wikipedia) (2.5)\n",
      "Requirement already satisfied: transformers in c:\\users\\sandh\\anaconda3\\lib\\site-packages (4.55.4)\n",
      "Requirement already satisfied: filelock in c:\\users\\sandh\\anaconda3\\lib\\site-packages (from transformers) (3.13.1)\n",
      "Requirement already satisfied: huggingface-hub<1.0,>=0.34.0 in c:\\users\\sandh\\anaconda3\\lib\\site-packages (from transformers) (0.34.4)\n",
      "Requirement already satisfied: numpy>=1.17 in c:\\users\\sandh\\anaconda3\\lib\\site-packages (from transformers) (1.26.4)\n",
      "Requirement already satisfied: packaging>=20.0 in c:\\users\\sandh\\anaconda3\\lib\\site-packages (from transformers) (24.1)\n",
      "Requirement already satisfied: pyyaml>=5.1 in c:\\users\\sandh\\anaconda3\\lib\\site-packages (from transformers) (6.0.1)\n",
      "Requirement already satisfied: regex!=2019.12.17 in c:\\users\\sandh\\anaconda3\\lib\\site-packages (from transformers) (2024.9.11)\n",
      "Requirement already satisfied: requests in c:\\users\\sandh\\anaconda3\\lib\\site-packages (from transformers) (2.32.3)\n",
      "Requirement already satisfied: tokenizers<0.22,>=0.21 in c:\\users\\sandh\\anaconda3\\lib\\site-packages (from transformers) (0.21.4)\n",
      "Requirement already satisfied: safetensors>=0.4.3 in c:\\users\\sandh\\anaconda3\\lib\\site-packages (from transformers) (0.6.2)\n",
      "Requirement already satisfied: tqdm>=4.27 in c:\\users\\sandh\\anaconda3\\lib\\site-packages (from transformers) (4.66.5)\n",
      "Requirement already satisfied: fsspec>=2023.5.0 in c:\\users\\sandh\\anaconda3\\lib\\site-packages (from huggingface-hub<1.0,>=0.34.0->transformers) (2024.6.1)\n",
      "Requirement already satisfied: typing-extensions>=3.7.4.3 in c:\\users\\sandh\\anaconda3\\lib\\site-packages (from huggingface-hub<1.0,>=0.34.0->transformers) (4.11.0)\n",
      "Requirement already satisfied: colorama in c:\\users\\sandh\\anaconda3\\lib\\site-packages (from tqdm>=4.27->transformers) (0.4.6)\n",
      "Requirement already satisfied: charset-normalizer<4,>=2 in c:\\users\\sandh\\anaconda3\\lib\\site-packages (from requests->transformers) (3.3.2)\n",
      "Requirement already satisfied: idna<4,>=2.5 in c:\\users\\sandh\\anaconda3\\lib\\site-packages (from requests->transformers) (3.7)\n",
      "Requirement already satisfied: urllib3<3,>=1.21.1 in c:\\users\\sandh\\anaconda3\\lib\\site-packages (from requests->transformers) (2.2.3)\n",
      "Requirement already satisfied: certifi>=2017.4.17 in c:\\users\\sandh\\anaconda3\\lib\\site-packages (from requests->transformers) (2025.8.3)\n",
      "Requirement already satisfied: sentence-transformers in c:\\users\\sandh\\anaconda3\\lib\\site-packages (5.1.0)\n",
      "Requirement already satisfied: transformers<5.0.0,>=4.41.0 in c:\\users\\sandh\\anaconda3\\lib\\site-packages (from sentence-transformers) (4.55.4)\n",
      "Requirement already satisfied: tqdm in c:\\users\\sandh\\anaconda3\\lib\\site-packages (from sentence-transformers) (4.66.5)\n",
      "Requirement already satisfied: torch>=1.11.0 in c:\\users\\sandh\\anaconda3\\lib\\site-packages (from sentence-transformers) (2.8.0)\n",
      "Requirement already satisfied: scikit-learn in c:\\users\\sandh\\anaconda3\\lib\\site-packages (from sentence-transformers) (1.5.1)\n",
      "Requirement already satisfied: scipy in c:\\users\\sandh\\anaconda3\\lib\\site-packages (from sentence-transformers) (1.13.1)\n",
      "Requirement already satisfied: huggingface-hub>=0.20.0 in c:\\users\\sandh\\anaconda3\\lib\\site-packages (from sentence-transformers) (0.34.4)\n",
      "Requirement already satisfied: Pillow in c:\\users\\sandh\\anaconda3\\lib\\site-packages (from sentence-transformers) (10.4.0)\n",
      "Requirement already satisfied: typing_extensions>=4.5.0 in c:\\users\\sandh\\anaconda3\\lib\\site-packages (from sentence-transformers) (4.11.0)\n",
      "Requirement already satisfied: filelock in c:\\users\\sandh\\anaconda3\\lib\\site-packages (from huggingface-hub>=0.20.0->sentence-transformers) (3.13.1)\n",
      "Requirement already satisfied: fsspec>=2023.5.0 in c:\\users\\sandh\\anaconda3\\lib\\site-packages (from huggingface-hub>=0.20.0->sentence-transformers) (2024.6.1)\n",
      "Requirement already satisfied: packaging>=20.9 in c:\\users\\sandh\\anaconda3\\lib\\site-packages (from huggingface-hub>=0.20.0->sentence-transformers) (24.1)\n",
      "Requirement already satisfied: pyyaml>=5.1 in c:\\users\\sandh\\anaconda3\\lib\\site-packages (from huggingface-hub>=0.20.0->sentence-transformers) (6.0.1)\n",
      "Requirement already satisfied: requests in c:\\users\\sandh\\anaconda3\\lib\\site-packages (from huggingface-hub>=0.20.0->sentence-transformers) (2.32.3)\n",
      "Requirement already satisfied: sympy>=1.13.3 in c:\\users\\sandh\\anaconda3\\lib\\site-packages (from torch>=1.11.0->sentence-transformers) (1.14.0)\n",
      "Requirement already satisfied: networkx in c:\\users\\sandh\\anaconda3\\lib\\site-packages (from torch>=1.11.0->sentence-transformers) (3.3)\n",
      "Requirement already satisfied: jinja2 in c:\\users\\sandh\\anaconda3\\lib\\site-packages (from torch>=1.11.0->sentence-transformers) (3.1.4)\n",
      "Requirement already satisfied: setuptools in c:\\users\\sandh\\anaconda3\\lib\\site-packages (from torch>=1.11.0->sentence-transformers) (75.1.0)\n",
      "Requirement already satisfied: colorama in c:\\users\\sandh\\anaconda3\\lib\\site-packages (from tqdm->sentence-transformers) (0.4.6)\n",
      "Requirement already satisfied: numpy>=1.17 in c:\\users\\sandh\\anaconda3\\lib\\site-packages (from transformers<5.0.0,>=4.41.0->sentence-transformers) (1.26.4)\n",
      "Requirement already satisfied: regex!=2019.12.17 in c:\\users\\sandh\\anaconda3\\lib\\site-packages (from transformers<5.0.0,>=4.41.0->sentence-transformers) (2024.9.11)\n",
      "Requirement already satisfied: tokenizers<0.22,>=0.21 in c:\\users\\sandh\\anaconda3\\lib\\site-packages (from transformers<5.0.0,>=4.41.0->sentence-transformers) (0.21.4)\n",
      "Requirement already satisfied: safetensors>=0.4.3 in c:\\users\\sandh\\anaconda3\\lib\\site-packages (from transformers<5.0.0,>=4.41.0->sentence-transformers) (0.6.2)\n",
      "Requirement already satisfied: joblib>=1.2.0 in c:\\users\\sandh\\anaconda3\\lib\\site-packages (from scikit-learn->sentence-transformers) (1.4.2)\n",
      "Requirement already satisfied: threadpoolctl>=3.1.0 in c:\\users\\sandh\\anaconda3\\lib\\site-packages (from scikit-learn->sentence-transformers) (3.5.0)\n",
      "Requirement already satisfied: mpmath<1.4,>=1.1.0 in c:\\users\\sandh\\anaconda3\\lib\\site-packages (from sympy>=1.13.3->torch>=1.11.0->sentence-transformers) (1.3.0)\n",
      "Requirement already satisfied: MarkupSafe>=2.0 in c:\\users\\sandh\\anaconda3\\lib\\site-packages (from jinja2->torch>=1.11.0->sentence-transformers) (2.1.3)\n",
      "Requirement already satisfied: charset-normalizer<4,>=2 in c:\\users\\sandh\\anaconda3\\lib\\site-packages (from requests->huggingface-hub>=0.20.0->sentence-transformers) (3.3.2)\n",
      "Requirement already satisfied: idna<4,>=2.5 in c:\\users\\sandh\\anaconda3\\lib\\site-packages (from requests->huggingface-hub>=0.20.0->sentence-transformers) (3.7)\n",
      "Requirement already satisfied: urllib3<3,>=1.21.1 in c:\\users\\sandh\\anaconda3\\lib\\site-packages (from requests->huggingface-hub>=0.20.0->sentence-transformers) (2.2.3)\n",
      "Requirement already satisfied: certifi>=2017.4.17 in c:\\users\\sandh\\anaconda3\\lib\\site-packages (from requests->huggingface-hub>=0.20.0->sentence-transformers) (2025.8.3)\n",
      "Requirement already satisfied: faiss-cpu in c:\\users\\sandh\\anaconda3\\lib\\site-packages (1.12.0)\n",
      "Requirement already satisfied: numpy<3.0,>=1.25.0 in c:\\users\\sandh\\anaconda3\\lib\\site-packages (from faiss-cpu) (1.26.4)\n",
      "Requirement already satisfied: packaging in c:\\users\\sandh\\anaconda3\\lib\\site-packages (from faiss-cpu) (24.1)\n",
      "Requirement already satisfied: tf_keras in c:\\users\\sandh\\anaconda3\\lib\\site-packages (2.19.0)\n",
      "Requirement already satisfied: tensorflow<2.20,>=2.19 in c:\\users\\sandh\\anaconda3\\lib\\site-packages (from tf_keras) (2.19.0)\n",
      "Requirement already satisfied: absl-py>=1.0.0 in c:\\users\\sandh\\anaconda3\\lib\\site-packages (from tensorflow<2.20,>=2.19->tf_keras) (2.3.1)\n",
      "Requirement already satisfied: astunparse>=1.6.0 in c:\\users\\sandh\\anaconda3\\lib\\site-packages (from tensorflow<2.20,>=2.19->tf_keras) (1.6.3)\n",
      "Requirement already satisfied: flatbuffers>=24.3.25 in c:\\users\\sandh\\anaconda3\\lib\\site-packages (from tensorflow<2.20,>=2.19->tf_keras) (25.2.10)\n",
      "Requirement already satisfied: gast!=0.5.0,!=0.5.1,!=0.5.2,>=0.2.1 in c:\\users\\sandh\\anaconda3\\lib\\site-packages (from tensorflow<2.20,>=2.19->tf_keras) (0.6.0)\n",
      "Requirement already satisfied: google-pasta>=0.1.1 in c:\\users\\sandh\\anaconda3\\lib\\site-packages (from tensorflow<2.20,>=2.19->tf_keras) (0.2.0)\n",
      "Requirement already satisfied: libclang>=13.0.0 in c:\\users\\sandh\\anaconda3\\lib\\site-packages (from tensorflow<2.20,>=2.19->tf_keras) (18.1.1)\n",
      "Requirement already satisfied: opt-einsum>=2.3.2 in c:\\users\\sandh\\anaconda3\\lib\\site-packages (from tensorflow<2.20,>=2.19->tf_keras) (3.4.0)\n",
      "Requirement already satisfied: packaging in c:\\users\\sandh\\anaconda3\\lib\\site-packages (from tensorflow<2.20,>=2.19->tf_keras) (24.1)\n",
      "Requirement already satisfied: protobuf!=4.21.0,!=4.21.1,!=4.21.2,!=4.21.3,!=4.21.4,!=4.21.5,<6.0.0dev,>=3.20.3 in c:\\users\\sandh\\anaconda3\\lib\\site-packages (from tensorflow<2.20,>=2.19->tf_keras) (4.25.3)\n",
      "Requirement already satisfied: requests<3,>=2.21.0 in c:\\users\\sandh\\anaconda3\\lib\\site-packages (from tensorflow<2.20,>=2.19->tf_keras) (2.32.3)\n",
      "Requirement already satisfied: setuptools in c:\\users\\sandh\\anaconda3\\lib\\site-packages (from tensorflow<2.20,>=2.19->tf_keras) (75.1.0)\n",
      "Requirement already satisfied: six>=1.12.0 in c:\\users\\sandh\\anaconda3\\lib\\site-packages (from tensorflow<2.20,>=2.19->tf_keras) (1.16.0)\n",
      "Requirement already satisfied: termcolor>=1.1.0 in c:\\users\\sandh\\anaconda3\\lib\\site-packages (from tensorflow<2.20,>=2.19->tf_keras) (3.1.0)\n",
      "Requirement already satisfied: typing-extensions>=3.6.6 in c:\\users\\sandh\\anaconda3\\lib\\site-packages (from tensorflow<2.20,>=2.19->tf_keras) (4.11.0)\n",
      "Requirement already satisfied: wrapt>=1.11.0 in c:\\users\\sandh\\anaconda3\\lib\\site-packages (from tensorflow<2.20,>=2.19->tf_keras) (1.14.1)\n",
      "Requirement already satisfied: grpcio<2.0,>=1.24.3 in c:\\users\\sandh\\anaconda3\\lib\\site-packages (from tensorflow<2.20,>=2.19->tf_keras) (1.73.1)\n",
      "Requirement already satisfied: tensorboard~=2.19.0 in c:\\users\\sandh\\anaconda3\\lib\\site-packages (from tensorflow<2.20,>=2.19->tf_keras) (2.19.0)\n",
      "Requirement already satisfied: keras>=3.5.0 in c:\\users\\sandh\\anaconda3\\lib\\site-packages (from tensorflow<2.20,>=2.19->tf_keras) (3.10.0)\n",
      "Requirement already satisfied: numpy<2.2.0,>=1.26.0 in c:\\users\\sandh\\anaconda3\\lib\\site-packages (from tensorflow<2.20,>=2.19->tf_keras) (1.26.4)\n",
      "Requirement already satisfied: h5py>=3.11.0 in c:\\users\\sandh\\anaconda3\\lib\\site-packages (from tensorflow<2.20,>=2.19->tf_keras) (3.11.0)\n",
      "Requirement already satisfied: ml-dtypes<1.0.0,>=0.5.1 in c:\\users\\sandh\\anaconda3\\lib\\site-packages (from tensorflow<2.20,>=2.19->tf_keras) (0.5.1)\n",
      "Requirement already satisfied: wheel<1.0,>=0.23.0 in c:\\users\\sandh\\anaconda3\\lib\\site-packages (from astunparse>=1.6.0->tensorflow<2.20,>=2.19->tf_keras) (0.44.0)\n",
      "Requirement already satisfied: rich in c:\\users\\sandh\\anaconda3\\lib\\site-packages (from keras>=3.5.0->tensorflow<2.20,>=2.19->tf_keras) (13.7.1)\n",
      "Requirement already satisfied: namex in c:\\users\\sandh\\anaconda3\\lib\\site-packages (from keras>=3.5.0->tensorflow<2.20,>=2.19->tf_keras) (0.1.0)\n",
      "Requirement already satisfied: optree in c:\\users\\sandh\\anaconda3\\lib\\site-packages (from keras>=3.5.0->tensorflow<2.20,>=2.19->tf_keras) (0.16.0)\n",
      "Requirement already satisfied: charset-normalizer<4,>=2 in c:\\users\\sandh\\anaconda3\\lib\\site-packages (from requests<3,>=2.21.0->tensorflow<2.20,>=2.19->tf_keras) (3.3.2)\n",
      "Requirement already satisfied: idna<4,>=2.5 in c:\\users\\sandh\\anaconda3\\lib\\site-packages (from requests<3,>=2.21.0->tensorflow<2.20,>=2.19->tf_keras) (3.7)\n",
      "Requirement already satisfied: urllib3<3,>=1.21.1 in c:\\users\\sandh\\anaconda3\\lib\\site-packages (from requests<3,>=2.21.0->tensorflow<2.20,>=2.19->tf_keras) (2.2.3)\n",
      "Requirement already satisfied: certifi>=2017.4.17 in c:\\users\\sandh\\anaconda3\\lib\\site-packages (from requests<3,>=2.21.0->tensorflow<2.20,>=2.19->tf_keras) (2025.8.3)\n",
      "Requirement already satisfied: markdown>=2.6.8 in c:\\users\\sandh\\anaconda3\\lib\\site-packages (from tensorboard~=2.19.0->tensorflow<2.20,>=2.19->tf_keras) (3.4.1)\n",
      "Requirement already satisfied: tensorboard-data-server<0.8.0,>=0.7.0 in c:\\users\\sandh\\anaconda3\\lib\\site-packages (from tensorboard~=2.19.0->tensorflow<2.20,>=2.19->tf_keras) (0.7.2)\n",
      "Requirement already satisfied: werkzeug>=1.0.1 in c:\\users\\sandh\\anaconda3\\lib\\site-packages (from tensorboard~=2.19.0->tensorflow<2.20,>=2.19->tf_keras) (3.0.3)\n",
      "Requirement already satisfied: MarkupSafe>=2.1.1 in c:\\users\\sandh\\anaconda3\\lib\\site-packages (from werkzeug>=1.0.1->tensorboard~=2.19.0->tensorflow<2.20,>=2.19->tf_keras) (2.1.3)\n",
      "Requirement already satisfied: markdown-it-py>=2.2.0 in c:\\users\\sandh\\anaconda3\\lib\\site-packages (from rich->keras>=3.5.0->tensorflow<2.20,>=2.19->tf_keras) (2.2.0)\n",
      "Requirement already satisfied: pygments<3.0.0,>=2.13.0 in c:\\users\\sandh\\anaconda3\\lib\\site-packages (from rich->keras>=3.5.0->tensorflow<2.20,>=2.19->tf_keras) (2.15.1)\n",
      "Requirement already satisfied: mdurl~=0.1 in c:\\users\\sandh\\anaconda3\\lib\\site-packages (from markdown-it-py>=2.2.0->rich->keras>=3.5.0->tensorflow<2.20,>=2.19->tf_keras) (0.1.0)\n",
      "Collecting gradio\n",
      "  Downloading gradio-5.44.1-py3-none-any.whl.metadata (16 kB)\n",
      "Collecting aiofiles<25.0,>=22.0 (from gradio)\n",
      "  Downloading aiofiles-24.1.0-py3-none-any.whl.metadata (10 kB)\n",
      "Requirement already satisfied: anyio<5.0,>=3.0 in c:\\users\\sandh\\anaconda3\\lib\\site-packages (from gradio) (4.2.0)\n",
      "Collecting brotli>=1.1.0 (from gradio)\n",
      "  Downloading Brotli-1.1.0-cp312-cp312-win_amd64.whl.metadata (5.6 kB)\n",
      "Collecting fastapi<1.0,>=0.115.2 (from gradio)\n",
      "  Downloading fastapi-0.116.1-py3-none-any.whl.metadata (28 kB)\n",
      "Collecting ffmpy (from gradio)\n",
      "  Downloading ffmpy-0.6.1-py3-none-any.whl.metadata (2.9 kB)\n",
      "Collecting gradio-client==1.12.1 (from gradio)\n",
      "  Downloading gradio_client-1.12.1-py3-none-any.whl.metadata (7.1 kB)\n",
      "Collecting groovy~=0.1 (from gradio)\n",
      "  Downloading groovy-0.1.2-py3-none-any.whl.metadata (6.1 kB)\n",
      "Requirement already satisfied: httpx<1.0,>=0.24.1 in c:\\users\\sandh\\anaconda3\\lib\\site-packages (from gradio) (0.27.0)\n",
      "Requirement already satisfied: huggingface-hub<1.0,>=0.33.5 in c:\\users\\sandh\\anaconda3\\lib\\site-packages (from gradio) (0.34.4)\n",
      "Requirement already satisfied: jinja2<4.0 in c:\\users\\sandh\\anaconda3\\lib\\site-packages (from gradio) (3.1.4)\n",
      "Requirement already satisfied: markupsafe<4.0,>=2.0 in c:\\users\\sandh\\anaconda3\\lib\\site-packages (from gradio) (2.1.3)\n",
      "Requirement already satisfied: numpy<3.0,>=1.0 in c:\\users\\sandh\\anaconda3\\lib\\site-packages (from gradio) (1.26.4)\n",
      "Collecting orjson~=3.0 (from gradio)\n",
      "  Downloading orjson-3.11.3-cp312-cp312-win_amd64.whl.metadata (43 kB)\n",
      "Requirement already satisfied: packaging in c:\\users\\sandh\\anaconda3\\lib\\site-packages (from gradio) (24.1)\n",
      "Requirement already satisfied: pandas<3.0,>=1.0 in c:\\users\\sandh\\anaconda3\\lib\\site-packages (from gradio) (2.2.2)\n",
      "Requirement already satisfied: pillow<12.0,>=8.0 in c:\\users\\sandh\\anaconda3\\lib\\site-packages (from gradio) (10.4.0)\n",
      "Requirement already satisfied: pydantic<2.12,>=2.0 in c:\\users\\sandh\\anaconda3\\lib\\site-packages (from gradio) (2.8.2)\n",
      "Collecting pydub (from gradio)\n",
      "  Downloading pydub-0.25.1-py2.py3-none-any.whl.metadata (1.4 kB)\n",
      "Collecting python-multipart>=0.0.18 (from gradio)\n",
      "  Downloading python_multipart-0.0.20-py3-none-any.whl.metadata (1.8 kB)\n",
      "Requirement already satisfied: pyyaml<7.0,>=5.0 in c:\\users\\sandh\\anaconda3\\lib\\site-packages (from gradio) (6.0.1)\n",
      "Collecting ruff>=0.9.3 (from gradio)\n",
      "  Downloading ruff-0.12.12-py3-none-win_amd64.whl.metadata (26 kB)\n",
      "Collecting safehttpx<0.2.0,>=0.1.6 (from gradio)\n",
      "  Downloading safehttpx-0.1.6-py3-none-any.whl.metadata (4.2 kB)\n",
      "Collecting semantic-version~=2.0 (from gradio)\n",
      "  Downloading semantic_version-2.10.0-py2.py3-none-any.whl.metadata (9.7 kB)\n",
      "Collecting starlette<1.0,>=0.40.0 (from gradio)\n",
      "  Downloading starlette-0.47.3-py3-none-any.whl.metadata (6.2 kB)\n",
      "Collecting tomlkit<0.14.0,>=0.12.0 (from gradio)\n",
      "  Downloading tomlkit-0.13.3-py3-none-any.whl.metadata (2.8 kB)\n",
      "Collecting typer<1.0,>=0.12 (from gradio)\n",
      "  Downloading typer-0.17.4-py3-none-any.whl.metadata (15 kB)\n",
      "Requirement already satisfied: typing-extensions~=4.0 in c:\\users\\sandh\\anaconda3\\lib\\site-packages (from gradio) (4.11.0)\n",
      "Collecting uvicorn>=0.14.0 (from gradio)\n",
      "  Downloading uvicorn-0.35.0-py3-none-any.whl.metadata (6.5 kB)\n",
      "Requirement already satisfied: fsspec in c:\\users\\sandh\\anaconda3\\lib\\site-packages (from gradio-client==1.12.1->gradio) (2024.6.1)\n",
      "Requirement already satisfied: websockets<16.0,>=10.0 in c:\\users\\sandh\\anaconda3\\lib\\site-packages (from gradio-client==1.12.1->gradio) (15.0.1)\n",
      "Requirement already satisfied: idna>=2.8 in c:\\users\\sandh\\anaconda3\\lib\\site-packages (from anyio<5.0,>=3.0->gradio) (3.7)\n",
      "Requirement already satisfied: sniffio>=1.1 in c:\\users\\sandh\\anaconda3\\lib\\site-packages (from anyio<5.0,>=3.0->gradio) (1.3.0)\n",
      "Requirement already satisfied: certifi in c:\\users\\sandh\\anaconda3\\lib\\site-packages (from httpx<1.0,>=0.24.1->gradio) (2025.8.3)\n",
      "Requirement already satisfied: httpcore==1.* in c:\\users\\sandh\\anaconda3\\lib\\site-packages (from httpx<1.0,>=0.24.1->gradio) (1.0.2)\n",
      "Requirement already satisfied: h11<0.15,>=0.13 in c:\\users\\sandh\\anaconda3\\lib\\site-packages (from httpcore==1.*->httpx<1.0,>=0.24.1->gradio) (0.14.0)\n",
      "Requirement already satisfied: filelock in c:\\users\\sandh\\anaconda3\\lib\\site-packages (from huggingface-hub<1.0,>=0.33.5->gradio) (3.13.1)\n",
      "Requirement already satisfied: requests in c:\\users\\sandh\\anaconda3\\lib\\site-packages (from huggingface-hub<1.0,>=0.33.5->gradio) (2.32.3)\n",
      "Requirement already satisfied: tqdm>=4.42.1 in c:\\users\\sandh\\anaconda3\\lib\\site-packages (from huggingface-hub<1.0,>=0.33.5->gradio) (4.66.5)\n",
      "Requirement already satisfied: python-dateutil>=2.8.2 in c:\\users\\sandh\\anaconda3\\lib\\site-packages (from pandas<3.0,>=1.0->gradio) (2.9.0.post0)\n",
      "Requirement already satisfied: pytz>=2020.1 in c:\\users\\sandh\\anaconda3\\lib\\site-packages (from pandas<3.0,>=1.0->gradio) (2024.1)\n",
      "Requirement already satisfied: tzdata>=2022.7 in c:\\users\\sandh\\anaconda3\\lib\\site-packages (from pandas<3.0,>=1.0->gradio) (2023.3)\n",
      "Requirement already satisfied: annotated-types>=0.4.0 in c:\\users\\sandh\\anaconda3\\lib\\site-packages (from pydantic<2.12,>=2.0->gradio) (0.6.0)\n",
      "Requirement already satisfied: pydantic-core==2.20.1 in c:\\users\\sandh\\anaconda3\\lib\\site-packages (from pydantic<2.12,>=2.0->gradio) (2.20.1)\n",
      "Requirement already satisfied: click>=8.0.0 in c:\\users\\sandh\\anaconda3\\lib\\site-packages (from typer<1.0,>=0.12->gradio) (8.1.7)\n",
      "Collecting shellingham>=1.3.0 (from typer<1.0,>=0.12->gradio)\n",
      "  Downloading shellingham-1.5.4-py2.py3-none-any.whl.metadata (3.5 kB)\n",
      "Requirement already satisfied: rich>=10.11.0 in c:\\users\\sandh\\anaconda3\\lib\\site-packages (from typer<1.0,>=0.12->gradio) (13.7.1)\n",
      "Requirement already satisfied: colorama in c:\\users\\sandh\\anaconda3\\lib\\site-packages (from click>=8.0.0->typer<1.0,>=0.12->gradio) (0.4.6)\n",
      "Requirement already satisfied: six>=1.5 in c:\\users\\sandh\\anaconda3\\lib\\site-packages (from python-dateutil>=2.8.2->pandas<3.0,>=1.0->gradio) (1.16.0)\n",
      "Requirement already satisfied: markdown-it-py>=2.2.0 in c:\\users\\sandh\\anaconda3\\lib\\site-packages (from rich>=10.11.0->typer<1.0,>=0.12->gradio) (2.2.0)\n",
      "Requirement already satisfied: pygments<3.0.0,>=2.13.0 in c:\\users\\sandh\\anaconda3\\lib\\site-packages (from rich>=10.11.0->typer<1.0,>=0.12->gradio) (2.15.1)\n",
      "Requirement already satisfied: charset-normalizer<4,>=2 in c:\\users\\sandh\\anaconda3\\lib\\site-packages (from requests->huggingface-hub<1.0,>=0.33.5->gradio) (3.3.2)\n",
      "Requirement already satisfied: urllib3<3,>=1.21.1 in c:\\users\\sandh\\anaconda3\\lib\\site-packages (from requests->huggingface-hub<1.0,>=0.33.5->gradio) (2.2.3)\n",
      "Requirement already satisfied: mdurl~=0.1 in c:\\users\\sandh\\anaconda3\\lib\\site-packages (from markdown-it-py>=2.2.0->rich>=10.11.0->typer<1.0,>=0.12->gradio) (0.1.0)\n",
      "Downloading gradio-5.44.1-py3-none-any.whl (60.2 MB)\n",
      "   ---------------------------------------- 0.0/60.2 MB ? eta -:--:--\n",
      "   -- ------------------------------------- 4.5/60.2 MB 22.4 MB/s eta 0:00:03\n",
      "   ------ --------------------------------- 10.5/60.2 MB 26.2 MB/s eta 0:00:02\n",
      "   ---------- ----------------------------- 16.5/60.2 MB 27.4 MB/s eta 0:00:02\n",
      "   -------------- ------------------------- 21.8/60.2 MB 26.5 MB/s eta 0:00:02\n",
      "   ----------------- ---------------------- 27.0/60.2 MB 25.9 MB/s eta 0:00:02\n",
      "   --------------------- ------------------ 32.2/60.2 MB 25.6 MB/s eta 0:00:02\n",
      "   ------------------------ --------------- 37.5/60.2 MB 25.6 MB/s eta 0:00:01\n",
      "   ---------------------------- ----------- 43.0/60.2 MB 25.6 MB/s eta 0:00:01\n",
      "   -------------------------------- ------- 49.3/60.2 MB 25.9 MB/s eta 0:00:01\n",
      "   ------------------------------------ --- 55.3/60.2 MB 26.3 MB/s eta 0:00:01\n",
      "   ---------------------------------------  60.0/60.2 MB 26.6 MB/s eta 0:00:01\n",
      "   ---------------------------------------- 60.2/60.2 MB 24.7 MB/s eta 0:00:00\n",
      "Downloading gradio_client-1.12.1-py3-none-any.whl (324 kB)\n",
      "Downloading aiofiles-24.1.0-py3-none-any.whl (15 kB)\n",
      "Downloading Brotli-1.1.0-cp312-cp312-win_amd64.whl (357 kB)\n",
      "Downloading fastapi-0.116.1-py3-none-any.whl (95 kB)\n",
      "Downloading groovy-0.1.2-py3-none-any.whl (14 kB)\n",
      "Downloading orjson-3.11.3-cp312-cp312-win_amd64.whl (131 kB)\n",
      "Downloading python_multipart-0.0.20-py3-none-any.whl (24 kB)\n",
      "Downloading ruff-0.12.12-py3-none-win_amd64.whl (13.2 MB)\n",
      "   ---------------------------------------- 0.0/13.2 MB ? eta -:--:--\n",
      "   ------------------ --------------------- 6.0/13.2 MB 30.8 MB/s eta 0:00:01\n",
      "   ------------------------------------- -- 12.3/13.2 MB 29.7 MB/s eta 0:00:01\n",
      "   ---------------------------------------- 13.2/13.2 MB 27.6 MB/s eta 0:00:00\n",
      "Downloading safehttpx-0.1.6-py3-none-any.whl (8.7 kB)\n",
      "Downloading semantic_version-2.10.0-py2.py3-none-any.whl (15 kB)\n",
      "Downloading starlette-0.47.3-py3-none-any.whl (72 kB)\n",
      "Downloading tomlkit-0.13.3-py3-none-any.whl (38 kB)\n",
      "Downloading typer-0.17.4-py3-none-any.whl (46 kB)\n",
      "Downloading uvicorn-0.35.0-py3-none-any.whl (66 kB)\n",
      "Downloading ffmpy-0.6.1-py3-none-any.whl (5.5 kB)\n",
      "Downloading pydub-0.25.1-py2.py3-none-any.whl (32 kB)\n",
      "Downloading shellingham-1.5.4-py2.py3-none-any.whl (9.8 kB)\n",
      "Installing collected packages: pydub, brotli, tomlkit, shellingham, semantic-version, ruff, python-multipart, orjson, groovy, ffmpy, aiofiles, uvicorn, starlette, typer, safehttpx, gradio-client, fastapi, gradio\n",
      "  Attempting uninstall: brotli\n",
      "    Found existing installation: Brotli 1.0.9\n",
      "    Uninstalling Brotli-1.0.9:\n",
      "      Successfully uninstalled Brotli-1.0.9\n",
      "  Attempting uninstall: tomlkit\n",
      "    Found existing installation: tomlkit 0.11.1\n",
      "    Uninstalling tomlkit-0.11.1:\n",
      "      Successfully uninstalled tomlkit-0.11.1\n",
      "Successfully installed aiofiles-24.1.0 brotli-1.1.0 fastapi-0.116.1 ffmpy-0.6.1 gradio-5.44.1 gradio-client-1.12.1 groovy-0.1.2 orjson-3.11.3 pydub-0.25.1 python-multipart-0.0.20 ruff-0.12.12 safehttpx-0.1.6 semantic-version-2.10.0 shellingham-1.5.4 starlette-0.47.3 tomlkit-0.13.3 typer-0.17.4 uvicorn-0.35.0\n"
     ]
    },
    {
     "name": "stderr",
     "output_type": "stream",
     "text": [
      "  WARNING: Failed to remove contents in a temporary directory 'C:\\Users\\sandh\\AppData\\Local\\Temp\\pip-uninstall-u7pin91s'.\n",
      "  You can safely remove it manually.\n"
     ]
    }
   ],
   "source": [
    "!pip install wikipedia\n",
    "!pip install transformers\n",
    "!pip install sentence-transformers\n",
    "!pip install faiss-cpu\n",
    "!pip install tf_keras\n",
    "!pip install gradio"
   ]
  },
  {
   "cell_type": "markdown",
   "id": "cf8ad104",
   "metadata": {},
   "source": [
    "### 📚 Importing Essential Libraries\n",
    "\n",
    "Now let's import all the required libraries for our RAG implementation:\n",
    "\n",
    "- **🔢 NumPy**: For numerical operations and array handling\n",
    "- **📖 Wikipedia**: For fetching knowledge base content\n",
    "- **🤗 Transformers**: For tokenization and QA models  \n",
    "- **📝 Sentence Transformers**: For creating semantic embeddings\n",
    "- **⚡ FAISS**: For efficient vector similarity search\n"
   ]
  },
  {
   "cell_type": "code",
   "execution_count": 3,
   "id": "5a893dd3",
   "metadata": {},
   "outputs": [],
   "source": [
    "import numpy as np\n",
    "import wikipedia\n",
    "from transformers import AutoTokenizer, AutoModelForQuestionAnswering, pipeline\n",
    "from sentence_transformers import SentenceTransformer\n",
    "import faiss"
   ]
  },
  {
   "cell_type": "markdown",
   "id": "09ade958",
   "metadata": {},
   "source": [
    "## 📖 Retrieving Knowledge:\n",
    "\n",
    "Fetch relevant Wikipedia articles based on a given topic:"
   ]
  },
  {
   "cell_type": "code",
   "execution_count": 3,
   "id": "e99c702c",
   "metadata": {},
   "outputs": [],
   "source": [
    "def get_wikipedia_content(topic):\n",
    "    try: \n",
    "        page = wikipedia.page(topic)\n",
    "        return page.content\n",
    "    except wikipedia.exceptions.PageError:\n",
    "        return None\n",
    "    except wikipedia.exceptions.DisambiguationError as e:\n",
    "        # Handling cases where the topic is ambiguous:\n",
    "        print(f\"Ambiguous topic, Get more specific. Possible options: {e.options}\")\n",
    "        return None\n",
    "\n",
    "# User Input:\n",
    "topic = input(\"Enter a topic to learn about: \")\n",
    "document = get_wikipedia_content(topic)\n",
    "\n",
    "if not document:\n",
    "    print(\"Could not find information on that topic.\")\n",
    "    exit()"
   ]
  },
  {
   "cell_type": "markdown",
   "id": "5ff1eea6",
   "metadata": {},
   "source": [
    "## ✂️ Text Chunking:\n",
    "\n",
    "Since Wikipedia articles can be long, we will split the text into smaller overlapping chunks for better retrieval:\n",
    "\n",
    "- 📏 **Smart Segmentation**: Breaking text into manageable pieces (256 tokens each)\n",
    "- 🔗 **Overlapping Chunks**: Maintaining context between segments (20 token overlap)\n",
    "- ⚡ **Optimized Processing**: Avoiding token limit warnings and errors\n",
    "- 🎯 **Better Retrieval**: Smaller chunks = more precise similarity matching\n",
    "\n",
    "**Process:** Each chunk represents a focused piece of information that can be independently searched and retrieved for answering questions."
   ]
  },
  {
   "cell_type": "code",
   "execution_count": 4,
   "id": "cc0e6f59",
   "metadata": {},
   "outputs": [
    {
     "name": "stderr",
     "output_type": "stream",
     "text": [
      "Token indices sequence length is longer than the specified maximum sequence length for this model (6573 > 512). Running this sequence through the model will result in indexing errors\n"
     ]
    },
    {
     "name": "stdout",
     "output_type": "stream",
     "text": [
      "Total chunks: 28\n"
     ]
    }
   ],
   "source": [
    "tokenizer = AutoTokenizer.from_pretrained(\"sentence-transformers/all-mpnet-base-v2\")\n",
    "\n",
    "def split_text(text, chunk_size = 256, chunk_overlap = 20):\n",
    "    tokens = tokenizer.tokenize(text)\n",
    "    chunks = []\n",
    "    start = 0\n",
    "    while start < len(tokens):\n",
    "        end = min(start + chunk_size, len(tokens))\n",
    "        chunks.append(tokenizer.convert_tokens_to_string(tokens[start:end]))\n",
    "        if end == len(tokens):\n",
    "            break\n",
    "        start = end - chunk_overlap\n",
    "    return chunks\n",
    "\n",
    "chunks = split_text(document)\n",
    "print(f\"Total chunks: {len(chunks)}\")"
   ]
  },
  {
   "cell_type": "markdown",
   "id": "c1685e8f",
   "metadata": {},
   "source": [
    "## 🧮 Vector Embeddings & Search Index:\n",
    "\n",
    "### 🔄 Converting Text to Mathematical Vectors\n",
    "\n",
    "Transforms human-readable text into numerical representations that machines can compare:\n",
    "\n",
    "**🎯 The Process:**\n",
    "- 📝 **Sentence Transformers**: Convert each text chunk into 768-dimensional vectors\n",
    "- 🧠 **Semantic Encoding**: Capture meaning, not just keywords\n",
    "- ⚡ **FAISS Indexing**: Store vectors for lightning-fast similarity search\n",
    "- 📊 **L2 Distance**: Measure semantic similarity mathematically\n",
    "\n",
    "To efficiently search for relevant chunks, we will use Sentence Transformers to convert text into embeddings and store them in a FAISS index:"
   ]
  },
  {
   "cell_type": "code",
   "execution_count": 5,
   "id": "a766b074",
   "metadata": {},
   "outputs": [],
   "source": [
    "embedding_model = SentenceTransformer(\"sentence-transformers/all-mpnet-base-v2\")\n",
    "embeddings = embedding_model.encode(chunks)\n",
    "\n",
    "dimension = embeddings.shape[1]\n",
    "index = faiss.IndexFlatL2(dimension)\n",
    "index.add(np.array(embeddings))"
   ]
  },
  {
   "cell_type": "markdown",
   "id": "5c4b172d",
   "metadata": {},
   "source": [
    "## 🔍 Smart Query Processing & Retrieval\n",
    "\n",
    "### ❓ From Question to Context\n",
    "\n",
    "In the retrieval phase When a user asks a question, it will:\n",
    "\n",
    "\n",
    "**The Retrieval Pipeline:**\n",
    "\n",
    "1️⃣ **🎯 Query Embedding**: Convert user question to same vector space as knowledge chunks\n",
    "\n",
    "2️⃣ **⚡ Similarity Search**: FAISS finds the k most semantically similar chunks  \n",
    "\n",
    "3️⃣ **📋 Context Assembly**: Gather the most relevant information pieces\n",
    "\n",
    "4️⃣ **🎛️ Customizable Retrieval**: Adjust k (number of chunks) based on needs\n"
   ]
  },
  {
   "cell_type": "code",
   "execution_count": 6,
   "id": "58dffdf7",
   "metadata": {},
   "outputs": [
    {
     "name": "stdout",
     "output_type": "stream",
     "text": [
      "Retrieved chunks: \n",
      "- ( portugal ), reims ( france ) and voros lobogo ( hungary ). the first european cup match took place on 4 september 1955, and ended in a 3 – 3 draw between sporting cp and partizan. the first goal in european cup history was scored by joao baptista martins of sporting cp. the inaugural final took place at the parc des princes between stade de reims and real madrid on 13 june 1956. the spanish squad came back from behind to win 4 – 3 thanks to goals from alfredo di stefano and marquitos, as well as two goals from hector rial. real madrid successfully defended the trophy next season in their home stadium, the santiago bernabeu, against fiorentina. after a scoreless first half, real madrid scored twice in six minutes to defeat the italians. in 1958, milan failed to capitalise after going ahead on the scoreline twice, only for real madrid to equalise. the final, held in heysel stadium, went to extra time where francisco gento scored the game - winning goal to allow real madrid to retain the title for the third consecutive season. in a rematch of the first final, real madrid faced stade reims at the neckarstadion for the 1959 final, and won 2 –\n",
      "- madrid faced stade reims at the neckarstadion for the 1959 final, and won 2 – 0. west german side eintracht frankfurt became the first team not to compete in the latin cup to reach the european cup final. the 1960 final holds the record for the most goals scored, with real madrid beating eintracht frankfurt 7 – 3 at hampden park, courtesy of four goals by ferenc puskas and a hat - trick by alfredo di stefano. this was real madrid ' s fifth consecutive title, a record that still stands today. real madrid ' s reign ended in the 1960 – 61 season when bitter rivals barcelona dethroned them in the first round. barcelona were defeated in the final by portuguese side benfica 3 – 2 at the wankdorf stadium. reinforced by eusebio, benfica defeated real madrid 5 – 3 at the olympic stadium in amsterdam and kept the title for a second consecutive season. benfica wanted to repeat real madrid ' s successful run of the 1950s after reaching the showpiece event of the 1962 – 63 european cup, but a brace from brazilian - italian jose altafini at wembley gave the spoils to milan, making the trophy leave the iberian peninsula for the first time ever. inter milan beat an ageing real madrid\n",
      "- wins ). england has the most winning teams, with six clubs having won the title. the competition has been won by 24 clubs and 13 of them have won it more than once. since the tournament changed name and structure in 1992, only two top - tier football clubs outside the big five european nations ( spain, england, italy, germany and france ) have also reached the final : porto ( 2003 – 04 ) and ajax ( 1994 – 95 and 1995 – 96 ). real madrid is the most successful club in the tournament ' s history, having won it 15 times. madrid is the only club to have won it five times in a row ( the first five editions ). only one club has won all of their matches in a single tournament en route to the tournament victory : bayern munich in the 2019 – 20 season. paris saint - germain are the current european champions, having beaten inter milan 5 – 0 in the 2025 final for their first ever title. = = history = = the first time the champions of two european leagues met was in what was nicknamed the 1895 world championship, when english champions sunderland beat scottish champions heart of midlothian 5 – 3. the first pan - european tournament was the challenge cup, a competition between clubs in the austro - hungarian empire.\n"
     ]
    }
   ],
   "source": [
    "query = input(\"Ask a question about the topic: \")\n",
    "query_embedding = embedding_model.encode([query])\n",
    "query_embedding_array = np.array(query_embedding)\n",
    "\n",
    "k = 3   # Number of chunks to retrieve\n",
    "distances, indices = index.search(query_embedding_array, k)\n",
    "retrieved_chunks = [chunks[i] for i in indices[0]]\n",
    "print(\"Retrieved chunks: \")\n",
    "for chunk in retrieved_chunks:\n",
    "    print(\"- \" + chunk)"
   ]
  },
  {
   "cell_type": "markdown",
   "id": "5e999e1b",
   "metadata": {},
   "source": [
    "## 🤖 Intelligent Answer Generation\n",
    "\n",
    "### 🧠 From Context to Precise Answers\n",
    "\n",
    "The final step where retrieved knowledge becomes intelligent responses:\n",
    "\n",
    "**🎯 Generation Process:**\n",
    "- 🤖 **RoBERTa QA Model**: Pre-trained on SQuAD 2.0 dataset for optimal performance\n",
    "- 📝 **Extractive Answering**: Finds exact answer spans within retrieved context\n",
    "- 🎛️ **Context Fusion**: Combines multiple relevant chunks into unified context\n",
    "- 📊 **Confidence Scoring**: Provides reliability metrics for each answer\n",
    "\n",
    "\n",
    "**🔗 Complete RAG Flow**: `Wikipedia → Chunks → Embeddings → Retrieval → Generation → Answer + Confidence`"
   ]
  },
  {
   "cell_type": "code",
   "execution_count": null,
   "id": "1088f1ab",
   "metadata": {},
   "outputs": [
    {
     "name": "stderr",
     "output_type": "stream",
     "text": [
      "Device set to use cpu\n"
     ]
    },
    {
     "name": "stdout",
     "output_type": "stream",
     "text": [
      "Answer: 15\n"
     ]
    }
   ],
   "source": [
    "# Implement on Windows:\n",
    "'''\n",
    "qa_model_name = \"deepset/roberta-base-squad2\"\n",
    "qa_tokenizer = AutoTokenizer.from_pretrained(qa_model_name)\n",
    "qa_model = AutoModelForQuestionAnswering.from_pretrained(qa_model_name)\n",
    "qa_pipeline = pipeline(\"question-answering\", model=qa_model, tokenizer=qa_tokenizer)\n",
    "\n",
    "context = \" \".join(retrieved_chunks)\n",
    "answer = qa_pipeline(question = query, context = context)\n",
    "print(f\"Answer: {answer['answer']}\")\n",
    "'''"
   ]
  },
  {
   "cell_type": "code",
   "execution_count": null,
   "id": "0045f0d7",
   "metadata": {},
   "outputs": [],
   "source": [
    "# For Mac (as pipeline library is not available):\n",
    "import torch\n",
    "\n",
    "# Load QA model and tokenizer\n",
    "qa_model_name = \"deepset/roberta-base-squad2\"\n",
    "qa_tokenizer = AutoTokenizer.from_pretrained(qa_model_name)\n",
    "qa_model = AutoModelForQuestionAnswering.from_pretrained(qa_model_name)\n",
    "\n",
    "# Create context\n",
    "context = \" \".join(retrieved_chunks)\n",
    "\n",
    "# Answer the question directly (without pipeline)\n",
    "inputs = qa_tokenizer(query, context, return_tensors=\"pt\", truncation=True, max_length=512)\n",
    "with torch.no_grad():\n",
    "    outputs = qa_model(**inputs)\n",
    "\n",
    "answer_start = torch.argmax(outputs.start_logits)\n",
    "answer_end = torch.argmax(outputs.end_logits) + 1\n",
    "answer_text = qa_tokenizer.convert_tokens_to_string(\n",
    "    qa_tokenizer.convert_ids_to_tokens(inputs[\"input_ids\"][0][answer_start:answer_end])\n",
    ")"
   ]
  },
  {
   "cell_type": "markdown",
   "id": "e5d5da3d",
   "metadata": {},
   "source": [
    "### 📊 Answer Quality Assessment\n",
    "\n",
    "Monitor the reliability and confidence of generated answers:\n"
   ]
  },
  {
   "cell_type": "code",
   "execution_count": null,
   "id": "380a4564",
   "metadata": {},
   "outputs": [
    {
     "name": "stdout",
     "output_type": "stream",
     "text": [
      "Confidence Score: 0.3278 (32.8%)\n"
     ]
    }
   ],
   "source": [
    "# Calculate confidence score\n",
    "start_scores = torch.nn.functional.softmax(outputs.start_logits, dim=1)\n",
    "end_scores = torch.nn.functional.softmax(outputs.end_logits, dim=1)\n",
    "confidence = (start_scores[0][answer_start] * end_scores[0][answer_end-1]).item()\n",
    "\n",
    "print(f\"Answer: {answer_text}\")\n",
    "print(f\"Confidence: {confidence:.4f}\")\n",
    "\n",
    "# Display confidence score\n",
    "#print(f\"Confidence Score: {answer['score']:.4f} ({answer['score']*100:.1f}%)\")"
   ]
  },
  {
   "cell_type": "markdown",
   "id": "c0badfe1",
   "metadata": {},
   "source": [
    "## 📊 Simple Visualizations\n",
    "\n",
    "Let's create some basic visualizations to understand our RAG pipeline better:\n"
   ]
  },
  {
   "cell_type": "code",
   "execution_count": 9,
   "id": "a2d0dda9",
   "metadata": {},
   "outputs": [],
   "source": [
    "import matplotlib.pyplot as plt\n",
    "import seaborn as sns\n",
    "import numpy as np\n",
    "from collections import Counter\n",
    "import re\n",
    "\n",
    "# Set style for better-looking plots\n",
    "plt.style.use('seaborn-v0_8')\n",
    "sns.set_palette(\"husl\")\n"
   ]
  },
  {
   "cell_type": "code",
   "execution_count": null,
   "id": "26d2ab54",
   "metadata": {},
   "outputs": [
    {
     "name": "stderr",
     "output_type": "stream",
     "text": [
      "C:\\Users\\sandh\\AppData\\Local\\Temp\\ipykernel_18820\\1089942319.py:26: UserWarning: Glyph 128260 (\\N{ANTICLOCKWISE DOWNWARDS AND UPWARDS OPEN CIRCLE ARROWS}) missing from font(s) Arial.\n",
      "  plt.tight_layout()\n",
      "c:\\Users\\sandh\\anaconda3\\Lib\\site-packages\\IPython\\core\\pylabtools.py:170: UserWarning: Glyph 128260 (\\N{ANTICLOCKWISE DOWNWARDS AND UPWARDS OPEN CIRCLE ARROWS}) missing from font(s) Arial.\n",
      "  fig.canvas.print_figure(bytes_io, **kw)\n"
     ]
    },
    {
     "data": {
      "image/png": "[encoded data removed]",
      "text/plain": [
       "<Figure size 1200x600 with 1 Axes>"
      ]
     },
     "metadata": {},
     "output_type": "display_data"
    },
    {
     "name": "stdout",
     "output_type": "stream",
     "text": [
      "📊 Pipeline Summary:\n",
      "Input: 1 Wikipedia article\n",
      "Chunks created: 28\n",
      "Embeddings generated: 28\n",
      "Relevant chunks retrieved: 3\n",
      "Final answer generated: 1\n"
     ]
    }
   ],
   "source": [
    "# Simple Pipeline Flow Visualization\n",
    "pipeline_steps = ['Wikipedia\\nFetch', 'Text\\nChunking', 'Vector\\nEmbeddings', 'FAISS\\nSearch', 'QA Model\\nGeneration']\n",
    "step_values = [1, len(chunks), len(embeddings), len(retrieved_chunks), 1]\n",
    "step_colors = ['lightblue', 'lightgreen', 'orange', 'gold', 'lightcoral']\n",
    "\n",
    "plt.figure(figsize=(12, 6))\n",
    "\n",
    "# Flow diagram\n",
    "for i, (step, value, color) in enumerate(zip(pipeline_steps, step_values, step_colors)):\n",
    "    # Draw boxes\n",
    "    rect = plt.Rectangle((i*2, 1), 1.5, 1, facecolor=color, edgecolor='black', linewidth=2)\n",
    "    plt.gca().add_patch(rect)\n",
    "    \n",
    "    # Add labels\n",
    "    plt.text(i*2 + 0.75, 1.5, step, ha='center', va='center', fontweight='bold', fontsize=10)\n",
    "    plt.text(i*2 + 0.75, 0.5, f'{value}', ha='center', va='center', fontsize=12, fontweight='bold')\n",
    "    \n",
    "    # Add arrows\n",
    "    if i < len(pipeline_steps) - 1:\n",
    "        plt.arrow(i*2 + 1.6, 1.5, 0.3, 0, head_width=0.1, head_length=0.1, fc='black', ec='black')\n",
    "\n",
    "plt.xlim(-0.5, len(pipeline_steps)*2)\n",
    "plt.ylim(0, 3)\n",
    "plt.title('🔄 RAG Pipeline Flow', fontsize=16, fontweight='bold', pad=20)\n",
    "plt.axis('off')\n",
    "plt.tight_layout()\n",
    "plt.show()\n",
    "\n",
    "print(f\"📊 Pipeline Summary:\")\n",
    "print(f\"Input: 1 Wikipedia article\")\n",
    "print(f\"Chunks created: {len(chunks)}\")\n",
    "print(f\"Embeddings generated: {len(embeddings)}\")\n",
    "print(f\"Relevant chunks retrieved: {len(retrieved_chunks)}\")\n",
    "print(f\"Final answer generated: 1\")\n"
   ]
  }
 ],
 "metadata": {
  "kernelspec": {
   "display_name": "base",
   "language": "python",
   "name": "python3"
  },
  "language_info": {
   "codemirror_mode": {
    "name": "ipython",
    "version": 3
   },
   "file_extension": ".py",
   "mimetype": "text/x-python",
   "name": "python",
   "nbconvert_exporter": "python",
   "pygments_lexer": "ipython3",
   "version": "3.12.3"
  }
 },
 "nbformat": 4,
 "nbformat_minor": 5
}
